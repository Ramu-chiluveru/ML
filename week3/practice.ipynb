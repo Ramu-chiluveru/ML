{
 "cells": [
  {
   "cell_type": "code",
   "execution_count": 2,
   "id": "d08fc43b",
   "metadata": {},
   "outputs": [],
   "source": [
    "import pandas as pd\n",
    "import numpy as np\n",
    "from matplotlib import pyplot as plt\n"
   ]
  },
  {
   "cell_type": "code",
   "execution_count": 3,
   "id": "d28c4aa6",
   "metadata": {},
   "outputs": [],
   "source": [
    "df=pd.read_csv(\"tvmarketing.csv\")\n"
   ]
  },
  {
   "cell_type": "code",
   "execution_count": 12,
   "id": "5277220d",
   "metadata": {},
   "outputs": [
    {
     "data": {
      "text/plain": [
       "(200, 2)"
      ]
     },
     "execution_count": 12,
     "metadata": {},
     "output_type": "execute_result"
    }
   ],
   "source": [
    "df.shape"
   ]
  },
  {
   "cell_type": "code",
   "execution_count": 11,
   "id": "914ecc09",
   "metadata": {},
   "outputs": [
    {
     "data": {
      "text/plain": [
       "TV       190\n",
       "Sales    121\n",
       "dtype: int64"
      ]
     },
     "execution_count": 11,
     "metadata": {},
     "output_type": "execute_result"
    }
   ],
   "source": [
    "df.nunique()"
   ]
  },
  {
   "cell_type": "code",
   "execution_count": 13,
   "id": "261e06a7",
   "metadata": {},
   "outputs": [
    {
     "data": {
      "text/plain": [
       "TV       0\n",
       "Sales    0\n",
       "dtype: int64"
      ]
     },
     "execution_count": 13,
     "metadata": {},
     "output_type": "execute_result"
    }
   ],
   "source": [
    "df.isnull().sum()"
   ]
  },
  {
   "cell_type": "code",
   "execution_count": 16,
   "id": "c24ab42f",
   "metadata": {},
   "outputs": [],
   "source": [
    "from sklearn.model_selection import train_test_split\n",
    "x=df['TV']\n",
    "y=df['Sales']\n",
    "xtrain,xtest,ytrain,ytest=train_test_split(x,y,test_size=0.3,random_state=42)"
   ]
  },
  {
   "cell_type": "code",
   "execution_count": 18,
   "id": "3c9ace1e",
   "metadata": {},
   "outputs": [
    {
     "data": {
      "text/plain": [
       "((140,), (60,), (140,), (60,))"
      ]
     },
     "execution_count": 18,
     "metadata": {},
     "output_type": "execute_result"
    }
   ],
   "source": [
    "xtrain.shape,xtest.shape,ytrain.shape,ytest.shape"
   ]
  },
  {
   "cell_type": "code",
   "execution_count": 19,
   "id": "e6c88715",
   "metadata": {},
   "outputs": [
    {
     "name": "stdout",
     "output_type": "stream",
     "text": [
      "slope :  0.04640780212815275\n",
      "intercept :  7.23945983075114\n"
     ]
    }
   ],
   "source": [
    "import numpy as np\n",
    "n=len(xtrain)\n",
    "sumx=np.sum(xtrain)\n",
    "sumy=np.sum(ytrain)\n",
    "sumxy=np.sum(xtrain*ytrain)\n",
    "sumx2=np.sum(xtrain**2)\n",
    "m=(n*sumxy-sumx*sumy)/(n*sumx2-sumx**2)\n",
    "c=(sumy-m*sumx)/n\n",
    "print(\"slope : \",m)\n",
    "print(\"intercept : \",c)"
   ]
  },
  {
   "cell_type": "code",
   "execution_count": 22,
   "id": "ab052631",
   "metadata": {},
   "outputs": [
    {
     "name": "stdout",
     "output_type": "stream",
     "text": [
      "[[0.0464078]]\n",
      "[7.23945983]\n"
     ]
    },
    {
     "data": {
      "text/plain": [
       "0.5736021199591975"
      ]
     },
     "execution_count": 22,
     "metadata": {},
     "output_type": "execute_result"
    }
   ],
   "source": [
    "from sklearn.linear_model import LinearRegression\n",
    "xtrain=np.array(xtrain).reshape(-1,1)\n",
    "ytrain=np.array(ytrain).reshape(-1,1)\n",
    "model=LinearRegression()\n",
    "model.fit(xtrain,ytrain)\n",
    "print(model.coef_)\n",
    "print(model.intercept_)\n",
    "model.score(xtrain,ytrain)\n"
   ]
  },
  {
   "cell_type": "code",
   "execution_count": 23,
   "id": "8e286a26",
   "metadata": {},
   "outputs": [],
   "source": [
    "xtest=np.array(xtest).reshape(-1,1)\n",
    "ytest=np.array(ytest).reshape(-1,1)\n",
    "y_pred=model.predict(xtest)"
   ]
  },
  {
   "cell_type": "code",
   "execution_count": 26,
   "id": "d64a8f26",
   "metadata": {},
   "outputs": [
    {
     "data": {
      "image/png": "[encoded data removed]",
      "text/plain": [
       "<Figure size 640x480 with 1 Axes>"
      ]
     },
     "metadata": {},
     "output_type": "display_data"
    }
   ],
   "source": [
    "plt.scatter(xtest,ytest)\n",
    "plt.plot(xtest,y_pred)\n",
    "plt.xlabel('Actual Values')\n",
    "plt.ylabel('Predicted Values')\n",
    "plt.show()"
   ]
  },
  {
   "cell_type": "code",
   "execution_count": null,
   "id": "c30e443a",
   "metadata": {},
   "outputs": [],
   "source": []
  },
  {
   "cell_type": "code",
   "execution_count": 1,
   "id": "1dd4465f",
   "metadata": {},
   "outputs": [
    {
     "name": "stdout",
     "output_type": "stream",
     "text": [
      "hello world\n"
     ]
    }
   ],
   "source": [
    "print(\"hello world\")"
   ]
  }
 ],
 "metadata": {
  "kernelspec": {
   "display_name": "base",
   "language": "python",
   "name": "python3"
  },
  "language_info": {
   "codemirror_mode": {
    "name": "ipython",
    "version": 3
   },
   "file_extension": ".py",
   "mimetype": "text/x-python",
   "name": "python",
   "nbconvert_exporter": "python",
   "pygments_lexer": "ipython3",
   "version": "3.12.4"
  }
 },
 "nbformat": 4,
 "nbformat_minor": 5
}
