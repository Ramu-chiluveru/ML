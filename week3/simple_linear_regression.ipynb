{
 "cells": [
  {
   "cell_type": "code",
   "execution_count": 1,
   "metadata": {},
   "outputs": [
    {
     "name": "stdout",
     "output_type": "stream",
     "text": [
      "Hello world\n"
     ]
    }
   ],
   "source": [
    "print(\"Hello world\")"
   ]
  },
  {
   "cell_type": "markdown",
   "metadata": {},
   "source": [
    "Dataset - tvmarketing.csv\n",
    "Forecast Sales based on 'TV' marketing budget. You need to build a linear\n",
    "regression model to predict 'Sales' using 'TV' as the predictor variable."
   ]
  },
  {
   "cell_type": "markdown",
   "metadata": {},
   "source": []
  },
  {
   "cell_type": "code",
   "execution_count": 2,
   "metadata": {},
   "outputs": [
    {
     "name": "stdout",
     "output_type": "stream",
     "text": [
      "        TV  Sales\n",
      "0    230.1   22.1\n",
      "1     44.5   10.4\n",
      "2     17.2    9.3\n",
      "3    151.5   18.5\n",
      "4    180.8   12.9\n",
      "..     ...    ...\n",
      "195   38.2    7.6\n",
      "196   94.2    9.7\n",
      "197  177.0   12.8\n",
      "198  283.6   25.5\n",
      "199  232.1   13.4\n",
      "\n",
      "[200 rows x 2 columns]\n"
     ]
    }
   ],
   "source": [
    "import pandas as pd\n",
    "df=pd.read_csv('tvmarketing.csv')\n",
    "print(df)"
   ]
  },
  {
   "cell_type": "code",
   "execution_count": 3,
   "metadata": {},
   "outputs": [
    {
     "name": "stdout",
     "output_type": "stream",
     "text": [
      "      TV  Sales\n",
      "0  230.1   22.1\n",
      "1   44.5   10.4\n",
      "2   17.2    9.3\n",
      "3  151.5   18.5\n",
      "4  180.8   12.9\n"
     ]
    }
   ],
   "source": [
    "print(df.head(5))"
   ]
  },
  {
   "cell_type": "code",
   "execution_count": 4,
   "metadata": {},
   "outputs": [
    {
     "name": "stdout",
     "output_type": "stream",
     "text": [
      "TV       float64\n",
      "Sales    float64\n",
      "dtype: object\n"
     ]
    }
   ],
   "source": [
    "print(df.dtypes)"
   ]
  },
  {
   "cell_type": "code",
   "execution_count": 5,
   "metadata": {},
   "outputs": [
    {
     "name": "stdout",
     "output_type": "stream",
     "text": [
      "(200, 2)\n"
     ]
    }
   ],
   "source": [
    "print(df.shape)"
   ]
  },
  {
   "cell_type": "code",
   "execution_count": 6,
   "metadata": {},
   "outputs": [
    {
     "name": "stdout",
     "output_type": "stream",
     "text": [
      "               TV       Sales\n",
      "count  200.000000  200.000000\n",
      "mean   147.042500   14.022500\n",
      "std     85.854236    5.217457\n",
      "min      0.700000    1.600000\n",
      "25%     74.375000   10.375000\n",
      "50%    149.750000   12.900000\n",
      "75%    218.825000   17.400000\n",
      "max    296.400000   27.000000\n"
     ]
    }
   ],
   "source": [
    "print(df.describe())"
   ]
  },
  {
   "cell_type": "code",
   "execution_count": 7,
   "metadata": {},
   "outputs": [
    {
     "data": {
      "image/png": "[encoded data removed]",
      "text/plain": [
       "<Figure size 640x480 with 1 Axes>"
      ]
     },
     "metadata": {},
     "output_type": "display_data"
    }
   ],
   "source": [
    "import matplotlib.pyplot as plt\n",
    "plt.scatter(df['TV'],df['Sales'])\n",
    "plt.xlabel('TV')\n",
    "plt.ylabel('Sales')\n",
    "plt.show()"
   ]
  },
  {
   "cell_type": "code",
   "execution_count": 8,
   "metadata": {},
   "outputs": [],
   "source": [
    "x=df['TV']\n",
    "y=df['Sales']"
   ]
  },
  {
   "cell_type": "code",
   "execution_count": 9,
   "metadata": {},
   "outputs": [
    {
     "name": "stdout",
     "output_type": "stream",
     "text": [
      "(140,)\n",
      "(60,)\n",
      "(140,)\n",
      "(60,)\n"
     ]
    }
   ],
   "source": [
    "from sklearn.model_selection import train_test_split\n",
    "X_train,X_test,y_train,y_test=train_test_split(x,y,train_size=0.7)\n",
    "print(X_train.shape)\n",
    "print(X_test.shape)\n",
    "print(y_train.shape)\n",
    "print(y_test.shape)\n"
   ]
  },
  {
   "cell_type": "code",
   "execution_count": 10,
   "metadata": {},
   "outputs": [
    {
     "name": "stdout",
     "output_type": "stream",
     "text": [
      "Slope (m): 0.04676425219187177\n",
      "Intercept (c): 7.124860130747519\n"
     ]
    }
   ],
   "source": [
    "# Number of training samples\n",
    "import numpy as np\n",
    "N = len(X_train)\n",
    "sum_X = np.sum(X_train)\n",
    "sum_Y = np.sum(y_train)\n",
    "sum_XY = np.sum(X_train * y_train)\n",
    "sum_X2 = np.sum(X_train ** 2)\n",
    "m = (N * sum_XY - sum_X * sum_Y) / (N * sum_X2 - sum_X ** 2)\n",
    "c = (sum_Y - m * sum_X) / N\n",
    "print(f\"Slope (m): {m}\")\n",
    "print(f\"Intercept (c): {c}\")\n"
   ]
  },
  {
   "cell_type": "code",
   "execution_count": 19,
   "metadata": {},
   "outputs": [
    {
     "name": "stdout",
     "output_type": "stream",
     "text": [
      "[[0.04676425]]\n",
      "[7.12486013]\n",
      "0.5991649938344936\n"
     ]
    }
   ],
   "source": [
    "import numpy as np\n",
    "from sklearn.linear_model import LinearRegression\n",
    "X_train=np.array(X_train).reshape(-1,1)\n",
    "y_train=np.array(y_train).reshape(-1,1)\n",
    "y_test = np.array(y_test).reshape(-1,1)\n",
    "\n",
    "model=LinearRegression()\n",
    "model.fit(X_train,y_train)\n",
    "\n",
    "y_pred = model.predict(X_test)\n",
    "\n",
    "print(model.coef_)\n",
    "print(model.intercept_)\n",
    "print(model.score(X_train,y_train))\n"
   ]
  },
  {
   "cell_type": "markdown",
   "metadata": {},
   "source": [
    "10.Create the model using the calculated coefficients and make predictions on\n",
    "the testing set"
   ]
  },
  {
   "cell_type": "code",
   "execution_count": 12,
   "metadata": {},
   "outputs": [
    {
     "name": "stdout",
     "output_type": "stream",
     "text": [
      "xpredict  [[17.24464431]\n",
      " [15.93524524]\n",
      " [ 8.90190171]\n",
      " [20.41993703]\n",
      " [20.98578448]\n",
      " [20.22820359]\n",
      " [10.32353498]\n",
      " [ 9.46307274]\n",
      " [ 7.37738709]\n",
      " [16.18309578]\n",
      " [16.669444  ]\n",
      " [17.33817281]\n",
      " [17.42702489]\n",
      " [20.2843207 ]\n",
      " [ 7.67200188]\n",
      " [10.42641634]\n",
      " [19.06845014]\n",
      " [ 9.91200956]\n",
      " [13.25565359]\n",
      " [ 7.91517599]\n",
      " [19.34435923]\n",
      " [20.71922824]\n",
      " [14.81757962]\n",
      " [18.42777989]\n",
      " [15.90718669]\n",
      " [12.78333465]\n",
      " [17.10435155]\n",
      " [17.80113891]\n",
      " [20.57425906]\n",
      " [ 7.73747183]\n",
      " [13.44738703]\n",
      " [17.74969823]\n",
      " [19.40982918]\n",
      " [11.31961355]\n",
      " [13.63444404]\n",
      " [16.43562274]\n",
      " [20.07388156]\n",
      " [10.697649  ]\n",
      " [18.35295708]\n",
      " [12.30166285]\n",
      " [18.2266936 ]\n",
      " [ 7.15759511]\n",
      " [ 8.59793407]\n",
      " [17.34284923]\n",
      " [13.68588471]\n",
      " [12.14734082]\n",
      " [19.54544551]\n",
      " [13.17615436]\n",
      " [13.73264897]\n",
      " [15.13557653]\n",
      " [17.88531456]\n",
      " [ 9.81380463]\n",
      " [10.64620832]\n",
      " [17.68422828]\n",
      " [15.77157036]\n",
      " [ 7.51767985]\n",
      " [17.60005262]\n",
      " [11.67034544]\n",
      " [16.46835772]\n",
      " [ 7.96194024]]\n",
      "Ypredict  [[17.24464431]\n",
      " [15.93524524]\n",
      " [ 8.90190171]\n",
      " [20.41993703]\n",
      " [20.98578448]\n",
      " [20.22820359]\n",
      " [10.32353498]\n",
      " [ 9.46307274]\n",
      " [ 7.37738709]\n",
      " [16.18309578]\n",
      " [16.669444  ]\n",
      " [17.33817281]\n",
      " [17.42702489]\n",
      " [20.2843207 ]\n",
      " [ 7.67200188]\n",
      " [10.42641634]\n",
      " [19.06845014]\n",
      " [ 9.91200956]\n",
      " [13.25565359]\n",
      " [ 7.91517599]\n",
      " [19.34435923]\n",
      " [20.71922824]\n",
      " [14.81757962]\n",
      " [18.42777989]\n",
      " [15.90718669]\n",
      " [12.78333465]\n",
      " [17.10435155]\n",
      " [17.80113891]\n",
      " [20.57425906]\n",
      " [ 7.73747183]\n",
      " [13.44738703]\n",
      " [17.74969823]\n",
      " [19.40982918]\n",
      " [11.31961355]\n",
      " [13.63444404]\n",
      " [16.43562274]\n",
      " [20.07388156]\n",
      " [10.697649  ]\n",
      " [18.35295708]\n",
      " [12.30166285]\n",
      " [18.2266936 ]\n",
      " [ 7.15759511]\n",
      " [ 8.59793407]\n",
      " [17.34284923]\n",
      " [13.68588471]\n",
      " [12.14734082]\n",
      " [19.54544551]\n",
      " [13.17615436]\n",
      " [13.73264897]\n",
      " [15.13557653]\n",
      " [17.88531456]\n",
      " [ 9.81380463]\n",
      " [10.64620832]\n",
      " [17.68422828]\n",
      " [15.77157036]\n",
      " [ 7.51767985]\n",
      " [17.60005262]\n",
      " [11.67034544]\n",
      " [16.46835772]\n",
      " [ 7.96194024]]\n"
     ]
    }
   ],
   "source": [
    "# Create the model using the calculated coefficients and make predictions on the testing set\n",
    "X_test=np.array(X_test).reshape(-1,1)\n",
    "X_pred=model.predict(X_test)\n",
    "print(\"xpredict \",X_pred)\n",
    "y_test=np.array(y_test).reshape(-1,1)\n",
    "y_pred=model.predict(X_test)\n",
    "print(\"Ypredict \",y_pred)"
   ]
  },
  {
   "cell_type": "markdown",
   "metadata": {},
   "source": [
    "11.Perform Linear Regression using library(sklearn)"
   ]
  },
  {
   "cell_type": "code",
   "execution_count": 13,
   "metadata": {},
   "outputs": [
    {
     "data": {
      "image/png": "[encoded data removed]",
      "text/plain": [
       "<Figure size 640x480 with 1 Axes>"
      ]
     },
     "metadata": {},
     "output_type": "display_data"
    }
   ],
   "source": [
    "# Plot the test data and the predicted data\n",
    "plt.scatter(X_test,y_test)\n",
    "plt.plot(X_test,y_pred)\n",
    "plt.xlabel('TV')\n",
    "plt.ylabel('Sales')\n",
    "plt.show()"
   ]
  },
  {
   "cell_type": "code",
   "execution_count": 14,
   "metadata": {},
   "outputs": [
    {
     "name": "stdout",
     "output_type": "stream",
     "text": [
      "[[17.24464431]\n",
      " [15.93524524]\n",
      " [ 8.90190171]\n",
      " [20.41993703]\n",
      " [20.98578448]\n",
      " [20.22820359]\n",
      " [10.32353498]\n",
      " [ 9.46307274]\n",
      " [ 7.37738709]\n",
      " [16.18309578]\n",
      " [16.669444  ]\n",
      " [17.33817281]\n",
      " [17.42702489]\n",
      " [20.2843207 ]\n",
      " [ 7.67200188]\n",
      " [10.42641634]\n",
      " [19.06845014]\n",
      " [ 9.91200956]\n",
      " [13.25565359]\n",
      " [ 7.91517599]\n",
      " [19.34435923]\n",
      " [20.71922824]\n",
      " [14.81757962]\n",
      " [18.42777989]\n",
      " [15.90718669]\n",
      " [12.78333465]\n",
      " [17.10435155]\n",
      " [17.80113891]\n",
      " [20.57425906]\n",
      " [ 7.73747183]\n",
      " [13.44738703]\n",
      " [17.74969823]\n",
      " [19.40982918]\n",
      " [11.31961355]\n",
      " [13.63444404]\n",
      " [16.43562274]\n",
      " [20.07388156]\n",
      " [10.697649  ]\n",
      " [18.35295708]\n",
      " [12.30166285]\n",
      " [18.2266936 ]\n",
      " [ 7.15759511]\n",
      " [ 8.59793407]\n",
      " [17.34284923]\n",
      " [13.68588471]\n",
      " [12.14734082]\n",
      " [19.54544551]\n",
      " [13.17615436]\n",
      " [13.73264897]\n",
      " [15.13557653]\n",
      " [17.88531456]\n",
      " [ 9.81380463]\n",
      " [10.64620832]\n",
      " [17.68422828]\n",
      " [15.77157036]\n",
      " [ 7.51767985]\n",
      " [17.60005262]\n",
      " [11.67034544]\n",
      " [16.46835772]\n",
      " [ 7.96194024]]\n"
     ]
    }
   ],
   "source": [
    "# Make predictions on the testing set - y_pred\n",
    "y_pred=model.predict(X_test)\n",
    "print(y_pred)\n"
   ]
  },
  {
   "cell_type": "code",
   "execution_count": null,
   "metadata": {},
   "outputs": [
    {
     "data": {
      "image/png": "[encoded data removed]",
      "text/plain": [
       "<Figure size 640x480 with 1 Axes>"
      ]
     },
     "metadata": {},
     "output_type": "display_data"
    }
   ],
   "source": [
    "# Plot train data and the model\n",
    "\n",
    "plt.scatter(X_train,y_train)\n",
    "plt.plot(X_train,model.predict(X_train))\n",
    "plt.xlabel('TV')\n",
    "plt.ylabel('Sales')\n",
    "plt.title('Training Data')\n",
    "plt.show()"
   ]
  },
  {
   "cell_type": "code",
   "execution_count": null,
   "metadata": {},
   "outputs": [
    {
     "data": {
      "image/png": "[encoded data removed]",
      "text/plain": [
       "<Figure size 640x480 with 1 Axes>"
      ]
     },
     "metadata": {},
     "output_type": "display_data"
    }
   ],
   "source": [
    "# Plot test data and the model\n",
    "\n",
    "plt.scatter(X_test,y_test)\n",
    "plt.plot(X_test,model.predict(X_test))\n",
    "plt.xlabel('TV')\n",
    "plt.ylabel('Sales')\n",
    "plt.title('Testing Data')\n",
    "plt.show()"
   ]
  },
  {
   "cell_type": "code",
   "execution_count": 17,
   "metadata": {},
   "outputs": [
    {
     "name": "stdout",
     "output_type": "stream",
     "text": [
      "Mean Squared Error: 11.56830467927256\n",
      "R Squared Value: 0.6272754494110934\n"
     ]
    }
   ],
   "source": [
    "# Print Mean Squared Error and R Squared Value\n",
    "from sklearn.metrics import mean_squared_error,r2_score\n",
    "print('Mean Squared Error:',mean_squared_error(y_test,y_pred))\n",
    "print('R Squared Value:',r2_score(y_test,y_pred))\n"
   ]
  },
  {
   "cell_type": "code",
   "execution_count": null,
   "metadata": {},
   "outputs": [],
   "source": []
  },
  {
   "cell_type": "code",
   "execution_count": null,
   "metadata": {},
   "outputs": [],
   "source": []
  }
 ],
 "metadata": {
  "kernelspec": {
   "display_name": "Python 3",
   "language": "python",
   "name": "python3"
  },
  "language_info": {
   "codemirror_mode": {
    "name": "ipython",
    "version": 3
   },
   "file_extension": ".py",
   "mimetype": "text/x-python",
   "name": "python",
   "nbconvert_exporter": "python",
   "pygments_lexer": "ipython3",
   "version": "3.11.4"
  }
 },
 "nbformat": 4,
 "nbformat_minor": 2
}
