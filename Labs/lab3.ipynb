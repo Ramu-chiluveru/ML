{
 "cells": [
  {
   "cell_type": "code",
   "execution_count": 1,
   "metadata": {},
   "outputs": [],
   "source": [
    "import pandas as pd\n",
    "import numpy as np\n",
    "\n",
    "df = pd.read_csv(\"../Datasets/TvMarketing.csv\")"
   ]
  },
  {
   "cell_type": "code",
   "execution_count": 2,
   "metadata": {},
   "outputs": [
    {
     "name": "stdout",
     "output_type": "stream",
     "text": [
      "<class 'pandas.core.frame.DataFrame'>\n",
      "RangeIndex: 200 entries, 0 to 199\n",
      "Data columns (total 2 columns):\n",
      " #   Column  Non-Null Count  Dtype  \n",
      "---  ------  --------------  -----  \n",
      " 0   TV      200 non-null    float64\n",
      " 1   Sales   200 non-null    float64\n",
      "dtypes: float64(2)\n",
      "memory usage: 3.3 KB\n",
      "None\n"
     ]
    }
   ],
   "source": [
    "#data format \n",
    "print(df.info())"
   ]
  },
  {
   "cell_type": "code",
   "execution_count": 3,
   "metadata": {},
   "outputs": [
    {
     "data": {
      "text/plain": [
       "(200, 2)"
      ]
     },
     "execution_count": 3,
     "metadata": {},
     "output_type": "execute_result"
    }
   ],
   "source": [
    "df.shape"
   ]
  },
  {
   "cell_type": "code",
   "execution_count": 4,
   "metadata": {},
   "outputs": [
    {
     "name": "stdout",
     "output_type": "stream",
     "text": [
      "TV       0\n",
      "Sales    0\n",
      "dtype: int64\n"
     ]
    }
   ],
   "source": [
    "# checking missing values\n",
    "print(df.isna().sum())"
   ]
  },
  {
   "cell_type": "code",
   "execution_count": 5,
   "metadata": {},
   "outputs": [
    {
     "data": {
      "text/html": [
       "<div>\n",
       "<style scoped>\n",
       "    .dataframe tbody tr th:only-of-type {\n",
       "        vertical-align: middle;\n",
       "    }\n",
       "\n",
       "    .dataframe tbody tr th {\n",
       "        vertical-align: top;\n",
       "    }\n",
       "\n",
       "    .dataframe thead th {\n",
       "        text-align: right;\n",
       "    }\n",
       "</style>\n",
       "<table border=\"1\" class=\"dataframe\">\n",
       "  <thead>\n",
       "    <tr style=\"text-align: right;\">\n",
       "      <th></th>\n",
       "      <th>TV</th>\n",
       "      <th>Sales</th>\n",
       "    </tr>\n",
       "  </thead>\n",
       "  <tbody>\n",
       "    <tr>\n",
       "      <th>count</th>\n",
       "      <td>200.000000</td>\n",
       "      <td>200.000000</td>\n",
       "    </tr>\n",
       "    <tr>\n",
       "      <th>mean</th>\n",
       "      <td>147.042500</td>\n",
       "      <td>14.022500</td>\n",
       "    </tr>\n",
       "    <tr>\n",
       "      <th>std</th>\n",
       "      <td>85.854236</td>\n",
       "      <td>5.217457</td>\n",
       "    </tr>\n",
       "    <tr>\n",
       "      <th>min</th>\n",
       "      <td>0.700000</td>\n",
       "      <td>1.600000</td>\n",
       "    </tr>\n",
       "    <tr>\n",
       "      <th>25%</th>\n",
       "      <td>74.375000</td>\n",
       "      <td>10.375000</td>\n",
       "    </tr>\n",
       "    <tr>\n",
       "      <th>50%</th>\n",
       "      <td>149.750000</td>\n",
       "      <td>12.900000</td>\n",
       "    </tr>\n",
       "    <tr>\n",
       "      <th>75%</th>\n",
       "      <td>218.825000</td>\n",
       "      <td>17.400000</td>\n",
       "    </tr>\n",
       "    <tr>\n",
       "      <th>max</th>\n",
       "      <td>296.400000</td>\n",
       "      <td>27.000000</td>\n",
       "    </tr>\n",
       "  </tbody>\n",
       "</table>\n",
       "</div>"
      ],
      "text/plain": [
       "               TV       Sales\n",
       "count  200.000000  200.000000\n",
       "mean   147.042500   14.022500\n",
       "std     85.854236    5.217457\n",
       "min      0.700000    1.600000\n",
       "25%     74.375000   10.375000\n",
       "50%    149.750000   12.900000\n",
       "75%    218.825000   17.400000\n",
       "max    296.400000   27.000000"
      ]
     },
     "execution_count": 5,
     "metadata": {},
     "output_type": "execute_result"
    }
   ],
   "source": [
    "df.describe()"
   ]
  },
  {
   "cell_type": "code",
   "execution_count": 6,
   "metadata": {},
   "outputs": [
    {
     "name": "stdout",
     "output_type": "stream",
     "text": [
      "[230.1  44.5  17.2 151.5 180.8   8.7  57.5 120.2   8.6 199.8  66.1 214.7\n",
      "  23.8  97.5 204.1 195.4  67.8 281.4  69.2 147.3 218.4 237.4  13.2 228.3\n",
      "  62.3 262.9 142.9 240.1 248.8  70.6 292.9 112.9  97.2 265.6  95.7 290.7\n",
      " 266.9  74.7  43.1 228.  202.5 177.  293.6 206.9  25.1 175.1  89.7 239.9\n",
      " 227.2  66.9 199.8 100.4 216.4 182.6 262.7 198.9   7.3 136.2 210.8 210.7\n",
      "  53.5 261.3 239.3 102.7 131.1  69.   31.5 139.3 237.4 216.8 199.1 109.8\n",
      "  26.8 129.4 213.4  16.9  27.5 120.5   5.4 116.   76.4 239.8  75.3  68.4\n",
      " 213.5 193.2  76.3 110.7  88.3 109.8 134.3  28.6 217.7 250.9 107.4 163.3\n",
      " 197.6 184.9 289.7 135.2 222.4 296.4 280.2 187.9 238.2 137.9  25.   90.4\n",
      "  13.1 255.4 225.8 241.7 175.7 209.6  78.2  75.1 139.2  76.4 125.7  19.4\n",
      " 141.3  18.8 224.  123.1 229.5  87.2   7.8  80.2 220.3  59.6   0.7 265.2\n",
      "   8.4 219.8  36.9  48.3  25.6 273.7  43.  184.9  73.4 193.7 220.5 104.6\n",
      "  96.2 140.3 240.1 243.2  38.   44.7 280.7 121.  197.6 171.3 187.8   4.1\n",
      "  93.9 149.8  11.7 131.7 172.5  85.7 188.4 163.5 117.2 234.5  17.9 206.8\n",
      " 215.4 284.3  50.  164.5  19.6 168.4 222.4 276.9 248.4 170.2 276.7 165.6\n",
      " 156.6 218.5  56.2 287.6 253.8 205.  139.5 191.1 286.   18.7  39.5  75.5\n",
      "  17.2 166.8 149.7  38.2  94.2 177.  283.6 232.1]\n"
     ]
    }
   ],
   "source": [
    "# seperating the columns\n",
    "x = df[\"TV\"].values\n",
    "y = df[\"Sales\"].values\n",
    "print(x)"
   ]
  },
  {
   "cell_type": "code",
   "execution_count": 7,
   "metadata": {},
   "outputs": [
    {
     "data": {
      "text/plain": [
       "Text(0.5, 1.0, 'Tv vs Sales')"
      ]
     },
     "execution_count": 7,
     "metadata": {},
     "output_type": "execute_result"
    },
    {
     "data": {
      "image/png": "[encoded data removed]",
      "text/plain": [
       "<Figure size 640x480 with 1 Axes>"
      ]
     },
     "metadata": {},
     "output_type": "display_data"
    }
   ],
   "source": [
    "import matplotlib.pyplot as plt\n",
    "plt.scatter(x,y)\n",
    "plt.xlabel(\"TV\")\n",
    "plt.ylabel(\"Sales\")\n",
    "plt.title(\"Tv vs Sales\")"
   ]
  },
  {
   "cell_type": "markdown",
   "metadata": {},
   "source": [
    "### splitting the data set"
   ]
  },
  {
   "cell_type": "code",
   "execution_count": 8,
   "metadata": {},
   "outputs": [],
   "source": [
    "from sklearn.model_selection import train_test_split\n",
    "x_train , x_test , y_train , y_test = train_test_split(x,y,test_size=0.2,train_size=0.8,random_state=1)"
   ]
  },
  {
   "cell_type": "code",
   "execution_count": 9,
   "metadata": {},
   "outputs": [
    {
     "name": "stdout",
     "output_type": "stream",
     "text": [
      "x train data:  [ 13.1  90.4  18.7 204.1   7.3 147.3  78.2 228.  205.  229.5 289.7 123.1\n",
      "  19.4 182.6 265.6 165.6 218.5  25.  232.1  43.  139.2 139.3   5.4 293.6\n",
      " 281.4   8.7  80.2 137.9 227.2  31.5 262.7 213.5 287.6  11.7  17.9 209.6\n",
      "  23.8  76.4 250.9 141.3 187.8 134.3 239.8 224.   75.5  97.5  75.3   8.4\n",
      " 191.1 175.1 135.2 266.9  85.7 139.5 171.3 187.9  38.2 177.   38.  168.4\n",
      "  16.9 237.4  28.6 197.6  17.2 199.1 193.2 280.7  57.5 175.7 230.1   4.1\n",
      " 120.5  69.  198.9 206.8  88.3   0.7  89.7 239.3 213.4 217.7 243.2 172.5\n",
      " 104.6 110.7 156.6 140.3 117.2  66.1  97.2  68.4  56.2 222.4  87.2 228.3\n",
      "   7.8 199.8  50.  238.2 121.   48.3 241.7 286.  131.1 195.4 177.  163.5\n",
      " 255.4  76.4 216.4 142.9  27.5 206.9  62.3 151.5 284.3  66.9  44.7 265.2\n",
      "  39.5 292.9  18.8  75.1 276.9   8.6  53.5 220.3  44.5 136.2  13.2 261.3\n",
      " 102.7 120.2  94.2 193.7  76.3 197.6 237.4 199.8 220.5 149.8  93.9 184.9\n",
      " 240.1 296.4 218.4 276.7 262.9  36.9 109.8  59.6  96.2  17.2 116.  219.8\n",
      " 273.7  26.8  73.4  74.7]\n",
      "x test data:  [210.8 202.5  95.7 280.2 253.8 283.6 163.3 180.8  70.6 215.4 164.5  69.2\n",
      " 214.7 109.8 225.8 125.7 131.7 290.7  25.6 210.7 100.4  67.8  25.1 107.4\n",
      " 112.9 188.4  43.1 248.8 166.8 240.1 239.9 234.5 149.7 170.2 248.4 184.9\n",
      " 222.4 129.4 216.8  19.6]\n"
     ]
    }
   ],
   "source": [
    "print(\"x train data: \",x_train)\n",
    "print(\"x test data: \",x_test)"
   ]
  },
  {
   "cell_type": "code",
   "execution_count": 10,
   "metadata": {},
   "outputs": [
    {
     "name": "stdout",
     "output_type": "stream",
     "text": [
      "y train data:  [ 5.3  8.7  6.7 19.   5.5 14.6 14.6 21.5 22.6 19.7 25.4 15.2  6.6 21.2\n",
      " 17.4 12.6 12.2  7.2 13.4  9.6 12.2 13.4  5.3 20.7 24.4  7.2  8.8 19.2\n",
      " 14.8  9.5 20.2 21.7 26.2  7.3  8.  15.9  9.2  9.4 22.2 15.5 15.6 11.2\n",
      " 12.3 11.6  9.9  9.7 11.3  5.7 17.3 14.9 17.2 25.4 13.3 10.3 19.  14.7\n",
      "  7.6 12.8 10.9 11.7  8.7 12.5  7.3 16.6  9.3 18.3 15.2 16.1 11.8 14.1\n",
      " 22.1  3.2 14.2  9.3 23.7 12.2 12.9  1.6 10.6 15.7 17.  19.4 25.4 14.4\n",
      " 10.4 16.  10.5 10.3 11.9  8.6  9.6 13.6  8.7 11.7 10.6 15.5  6.6 10.6\n",
      "  8.4 20.7 11.6 11.6 21.8 15.9 18.  22.4 17.1 18.  19.8 11.8 22.6 15.\n",
      "  6.9 12.9  9.7 18.5 15.   9.7 10.1 12.7 10.8 21.4  7.  12.6 27.   4.8\n",
      "  8.1 24.7 10.4 13.2  5.6 24.2 14.  13.2  9.7 19.2 12.  11.7 18.9 11.4\n",
      " 20.1 10.1 15.3 20.7 13.2 23.8 18.  11.8 12.  10.8 12.4  9.7 11.4  5.9\n",
      " 11.  19.6 20.8  8.8 10.9 14.7]\n",
      "y test data:  [23.8 16.6  9.5 14.8 17.6 25.5 16.9 12.9 10.5 17.1 14.5 11.3 17.4 16.7\n",
      " 13.4 15.9 12.9 12.8  9.5 18.4 10.7 12.5  8.5 11.5 11.9 14.9 10.1 18.9\n",
      " 19.6 15.9 23.2 11.9 17.3 11.7 20.2 15.5 11.5 11.  22.3  7.6]\n"
     ]
    }
   ],
   "source": [
    "print(\"y train data: \",y_train)\n",
    "print(\"y test data: \",y_test)"
   ]
  },
  {
   "cell_type": "markdown",
   "metadata": {},
   "source": [
    "### linear regression model"
   ]
  },
  {
   "cell_type": "code",
   "execution_count": 11,
   "metadata": {},
   "outputs": [
    {
     "name": "stdout",
     "output_type": "stream",
     "text": [
      "x_train shape: (160, 1)\n",
      "y_train shape: (160, 1)\n"
     ]
    }
   ],
   "source": [
    "\n",
    "\n",
    "x_train = np.array(x_train) \n",
    "y_train = np.array(y_train) \n",
    "\n",
    "x_train = x_train.reshape(-1, 1)  \n",
    "y_train = y_train.reshape(-1, 1)  \n",
    "\n",
    "x_test = x_test.reshape(-1, 1)\n",
    "\n",
    "print(\"x_train shape:\", x_train.shape)\n",
    "print(\"y_train shape:\", y_train.shape)\n"
   ]
  },
  {
   "cell_type": "code",
   "execution_count": 12,
   "metadata": {},
   "outputs": [
    {
     "name": "stdout",
     "output_type": "stream",
     "text": [
      "[[0.0492751]] [6.79977345]\n"
     ]
    },
    {
     "data": {
      "image/png": "[encoded data removed]",
      "text/plain": [
       "<Figure size 640x480 with 1 Axes>"
      ]
     },
     "metadata": {},
     "output_type": "display_data"
    }
   ],
   "source": [
    "from sklearn.linear_model import LinearRegression\n",
    "\n",
    "model = LinearRegression()\n",
    "model.fit(x_train, y_train)\n",
    "\n",
    "predictions = model.predict(x_test)\n",
    "\n",
    "# print(\"predictions: \", predictions)\n",
    "\n",
    "plt.scatter(x_train, y_train,color=\"green\")\n",
    "plt.scatter(x_test,predictions,color='red')\n",
    "plt.plot(x_test,predictions,color='black')\n",
    "plt.xlabel(\"Test data\")\n",
    "plt.ylabel(\"Predictions\")\n",
    "plt.title(\"Result\")\n",
    "\n",
    "print(model.coef_,model.intercept_)"
   ]
  },
  {
   "cell_type": "code",
   "execution_count": 13,
   "metadata": {},
   "outputs": [
    {
     "data": {
      "text/plain": [
       "Text(0.5, 1.0, 'Built with manual eqn by using the co-eff and intercept values')"
      ]
     },
     "execution_count": 13,
     "metadata": {},
     "output_type": "execute_result"
    },
    {
     "data": {
      "image/png": "[encoded data removed]",
      "text/plain": [
       "<Figure size 640x480 with 1 Axes>"
      ]
     },
     "metadata": {},
     "output_type": "display_data"
    }
   ],
   "source": [
    "for x in x_test:\n",
    "  res = model.coef_*x + model.intercept_\n",
    "  plt.scatter(x,res)\n",
    "\n",
    "plt.title(\"Built with manual eqn by using the co-eff and intercept values\")"
   ]
  },
  {
   "cell_type": "markdown",
   "metadata": {},
   "source": [
    "### mean squared error"
   ]
  },
  {
   "cell_type": "code",
   "execution_count": 14,
   "metadata": {},
   "outputs": [
    {
     "name": "stdout",
     "output_type": "stream",
     "text": [
      "x_test shape:  (40, 1)\n",
      "prediction shape:  (40, 1)\n",
      "mean squared error:  [434.37381302]\n"
     ]
    }
   ],
   "source": [
    "pred = model.predict(x_test)\n",
    "print(\"x_test shape: \",x_test.shape)\n",
    "print(\"prediction shape: \",pred.shape)\n",
    "error = 0\n",
    "for i in range(len(y_test)):\n",
    "  error += (y_test[i]-pred[i])**2\n",
    "\n",
    "print(\"mean squared error: \",error)"
   ]
  },
  {
   "cell_type": "markdown",
   "metadata": {},
   "source": [
    "### R-Squared Error"
   ]
  },
  {
   "cell_type": "code",
   "execution_count": 15,
   "metadata": {},
   "outputs": [
    {
     "name": "stdout",
     "output_type": "stream",
     "text": [
      "R-squared error:  [0.41535307]\n"
     ]
    }
   ],
   "source": [
    "ymean = y_test.mean()\n",
    "sum1 = 0\n",
    "sum2 = 0\n",
    "for i in range(len(y_test)):\n",
    "  sum1 += (y_test[i]-pred[i])**2\n",
    "  sum2 += (y_test[i]-ymean)**2\n",
    "\n",
    "r = 1-(sum1/sum2)\n",
    "\n",
    "print(\"R-squared error: \",r)"
   ]
  },
  {
   "cell_type": "markdown",
   "metadata": {},
   "source": [
    "## adjusted R-squared error"
   ]
  },
  {
   "cell_type": "code",
   "execution_count": 16,
   "metadata": {},
   "outputs": [
    {
     "name": "stdout",
     "output_type": "stream",
     "text": [
      "Ajusted R-squared error:  [0.39996763]\n"
     ]
    }
   ],
   "source": [
    "n = len(y_test)\n",
    "k = 1\n",
    "rsqr = 1 - ((1-r)*(n-1))/(n-k-1)\n",
    "print(\"Ajusted R-squared error: \",rsqr)"
   ]
  }
 ],
 "metadata": {
  "kernelspec": {
   "display_name": "Python 3",
   "language": "python",
   "name": "python3"
  },
  "language_info": {
   "codemirror_mode": {
    "name": "ipython",
    "version": 3
   },
   "file_extension": ".py",
   "mimetype": "text/x-python",
   "name": "python",
   "nbconvert_exporter": "python",
   "pygments_lexer": "ipython3",
   "version": "3.11.4"
  }
 },
 "nbformat": 4,
 "nbformat_minor": 2
}
